{
 "cells": [
  {
   "cell_type": "markdown",
   "metadata": {},
   "source": [
    "## Import Dependencies for machine learning"
   ]
  },
  {
   "cell_type": "code",
   "execution_count": 4,
   "metadata": {},
   "outputs": [],
   "source": [
    "import sklearn \n",
    "import pandas as pd \n",
    "import numpy as np \n",
    "import matplotlib.pyplot as plt\n",
    "from sklearn import linear_model\n",
    "from sklearn.utils import  shuffle"
   ]
  },
  {
   "cell_type": "markdown",
   "metadata": {},
   "source": [
    "## Processing our data in preparation of linear regression"
   ]
  },
  {
   "cell_type": "code",
   "execution_count": 5,
   "metadata": {},
   "outputs": [
    {
     "data": {
      "text/html": [
       "<div>\n",
       "<style scoped>\n",
       "    .dataframe tbody tr th:only-of-type {\n",
       "        vertical-align: middle;\n",
       "    }\n",
       "\n",
       "    .dataframe tbody tr th {\n",
       "        vertical-align: top;\n",
       "    }\n",
       "\n",
       "    .dataframe thead th {\n",
       "        text-align: right;\n",
       "    }\n",
       "</style>\n",
       "<table border=\"1\" class=\"dataframe\">\n",
       "  <thead>\n",
       "    <tr style=\"text-align: right;\">\n",
       "      <th></th>\n",
       "      <th>school</th>\n",
       "      <th>sex</th>\n",
       "      <th>age</th>\n",
       "      <th>address</th>\n",
       "      <th>famsize</th>\n",
       "      <th>Pstatus</th>\n",
       "      <th>Medu</th>\n",
       "      <th>Fedu</th>\n",
       "      <th>Mjob</th>\n",
       "      <th>Fjob</th>\n",
       "      <th>...</th>\n",
       "      <th>famrel</th>\n",
       "      <th>freetime</th>\n",
       "      <th>goout</th>\n",
       "      <th>Dalc</th>\n",
       "      <th>Walc</th>\n",
       "      <th>health</th>\n",
       "      <th>absences</th>\n",
       "      <th>G1</th>\n",
       "      <th>G2</th>\n",
       "      <th>G3</th>\n",
       "    </tr>\n",
       "  </thead>\n",
       "  <tbody>\n",
       "    <tr>\n",
       "      <th>0</th>\n",
       "      <td>GP</td>\n",
       "      <td>F</td>\n",
       "      <td>18</td>\n",
       "      <td>U</td>\n",
       "      <td>GT3</td>\n",
       "      <td>A</td>\n",
       "      <td>4</td>\n",
       "      <td>4</td>\n",
       "      <td>at_home</td>\n",
       "      <td>teacher</td>\n",
       "      <td>...</td>\n",
       "      <td>4</td>\n",
       "      <td>3</td>\n",
       "      <td>4</td>\n",
       "      <td>1</td>\n",
       "      <td>1</td>\n",
       "      <td>3</td>\n",
       "      <td>6</td>\n",
       "      <td>5</td>\n",
       "      <td>6</td>\n",
       "      <td>6</td>\n",
       "    </tr>\n",
       "    <tr>\n",
       "      <th>1</th>\n",
       "      <td>GP</td>\n",
       "      <td>F</td>\n",
       "      <td>17</td>\n",
       "      <td>U</td>\n",
       "      <td>GT3</td>\n",
       "      <td>T</td>\n",
       "      <td>1</td>\n",
       "      <td>1</td>\n",
       "      <td>at_home</td>\n",
       "      <td>other</td>\n",
       "      <td>...</td>\n",
       "      <td>5</td>\n",
       "      <td>3</td>\n",
       "      <td>3</td>\n",
       "      <td>1</td>\n",
       "      <td>1</td>\n",
       "      <td>3</td>\n",
       "      <td>4</td>\n",
       "      <td>5</td>\n",
       "      <td>5</td>\n",
       "      <td>6</td>\n",
       "    </tr>\n",
       "    <tr>\n",
       "      <th>2</th>\n",
       "      <td>GP</td>\n",
       "      <td>F</td>\n",
       "      <td>15</td>\n",
       "      <td>U</td>\n",
       "      <td>LE3</td>\n",
       "      <td>T</td>\n",
       "      <td>1</td>\n",
       "      <td>1</td>\n",
       "      <td>at_home</td>\n",
       "      <td>other</td>\n",
       "      <td>...</td>\n",
       "      <td>4</td>\n",
       "      <td>3</td>\n",
       "      <td>2</td>\n",
       "      <td>2</td>\n",
       "      <td>3</td>\n",
       "      <td>3</td>\n",
       "      <td>10</td>\n",
       "      <td>7</td>\n",
       "      <td>8</td>\n",
       "      <td>10</td>\n",
       "    </tr>\n",
       "    <tr>\n",
       "      <th>3</th>\n",
       "      <td>GP</td>\n",
       "      <td>F</td>\n",
       "      <td>15</td>\n",
       "      <td>U</td>\n",
       "      <td>GT3</td>\n",
       "      <td>T</td>\n",
       "      <td>4</td>\n",
       "      <td>2</td>\n",
       "      <td>health</td>\n",
       "      <td>services</td>\n",
       "      <td>...</td>\n",
       "      <td>3</td>\n",
       "      <td>2</td>\n",
       "      <td>2</td>\n",
       "      <td>1</td>\n",
       "      <td>1</td>\n",
       "      <td>5</td>\n",
       "      <td>2</td>\n",
       "      <td>15</td>\n",
       "      <td>14</td>\n",
       "      <td>15</td>\n",
       "    </tr>\n",
       "    <tr>\n",
       "      <th>4</th>\n",
       "      <td>GP</td>\n",
       "      <td>F</td>\n",
       "      <td>16</td>\n",
       "      <td>U</td>\n",
       "      <td>GT3</td>\n",
       "      <td>T</td>\n",
       "      <td>3</td>\n",
       "      <td>3</td>\n",
       "      <td>other</td>\n",
       "      <td>other</td>\n",
       "      <td>...</td>\n",
       "      <td>4</td>\n",
       "      <td>3</td>\n",
       "      <td>2</td>\n",
       "      <td>1</td>\n",
       "      <td>2</td>\n",
       "      <td>5</td>\n",
       "      <td>4</td>\n",
       "      <td>6</td>\n",
       "      <td>10</td>\n",
       "      <td>10</td>\n",
       "    </tr>\n",
       "  </tbody>\n",
       "</table>\n",
       "<p>5 rows × 33 columns</p>\n",
       "</div>"
      ],
      "text/plain": [
       "  school sex  age address famsize Pstatus  Medu  Fedu     Mjob      Fjob  ...  \\\n",
       "0     GP   F   18       U     GT3       A     4     4  at_home   teacher  ...   \n",
       "1     GP   F   17       U     GT3       T     1     1  at_home     other  ...   \n",
       "2     GP   F   15       U     LE3       T     1     1  at_home     other  ...   \n",
       "3     GP   F   15       U     GT3       T     4     2   health  services  ...   \n",
       "4     GP   F   16       U     GT3       T     3     3    other     other  ...   \n",
       "\n",
       "  famrel freetime  goout  Dalc  Walc health absences  G1  G2  G3  \n",
       "0      4        3      4     1     1      3        6   5   6   6  \n",
       "1      5        3      3     1     1      3        4   5   5   6  \n",
       "2      4        3      2     2     3      3       10   7   8  10  \n",
       "3      3        2      2     1     1      5        2  15  14  15  \n",
       "4      4        3      2     1     2      5        4   6  10  10  \n",
       "\n",
       "[5 rows x 33 columns]"
      ]
     },
     "metadata": {},
     "output_type": "display_data"
    }
   ],
   "source": [
    "data = pd.read_csv(\"./datasets/student_mat.csv\", sep=\";\")\n",
    "\n",
    "display(data.head())"
   ]
  },
  {
   "cell_type": "code",
   "execution_count": 6,
   "metadata": {},
   "outputs": [
    {
     "data": {
      "image/png": "[encoded data removed]",
      "text/plain": [
       "<Figure size 640x480 with 1 Axes>"
      ]
     },
     "metadata": {},
     "output_type": "display_data"
    },
    {
     "data": {
      "image/png": "[encoded data removed]",
      "text/plain": [
       "<Figure size 640x480 with 1 Axes>"
      ]
     },
     "metadata": {},
     "output_type": "display_data"
    }
   ],
   "source": [
    "data = data[[\"G1\", \"G2\", \"G3\", \"studytime\", \"failures\", \"absences\"]]\n",
    "\n",
    "def plot(p):\n",
    "    plt.scatter(data[p], data[\"G3\"])\n",
    "    plt.xlabel(p)\n",
    "    plt.ylabel(\"G3\")\n",
    "    plt.title(f\"Graph of G3 against {p}\")\n",
    "    plt.show()\n",
    "\n",
    "plot(\"G1\")\n",
    "plot(\"G2\")"
   ]
  },
  {
   "cell_type": "code",
   "execution_count": 7,
   "metadata": {},
   "outputs": [
    {
     "data": {
      "text/plain": [
       "<mpl_toolkits.mplot3d.art3d.Path3DCollection at 0x7f413535a390>"
      ]
     },
     "execution_count": 7,
     "metadata": {},
     "output_type": "execute_result"
    },
    {
     "data": {
      "image/png": "[encoded data removed]",
      "text/plain": [
       "<Figure size 640x480 with 1 Axes>"
      ]
     },
     "metadata": {},
     "output_type": "display_data"
    }
   ],
   "source": [
    "fig = plt.figure()\n",
    "ax = fig.add_subplot(projection='3d')\n",
    "\n",
    "ax.scatter3D(data[\"G1\"], data[\"G2\"], data[\"G3\"])"
   ]
  },
  {
   "cell_type": "code",
   "execution_count": 8,
   "metadata": {},
   "outputs": [
    {
     "data": {
      "application/vnd.plotly.v1+json": {
       "config": {
        "plotlyServerURL": "https://plot.ly"
       },
       "data": [
        {
         "hovertemplate": "G1=%{x}<br>G2=%{y}<br>G3=%{z}<extra></extra>",
         "legendgroup": "",
         "marker": {
          "color": "#636efa",
          "symbol": "circle"
         },
         "mode": "markers",
         "name": "",
         "scene": "scene",
         "showlegend": false,
         "type": "scatter3d",
         "x": [
          5,
          5,
          7,
          15,
          6,
          15,
          12,
          6,
          16,
          14,
          10,
          10,
          14,
          10,
          14,
          14,
          13,
          8,
          6,
          8,
          13,
          12,
          15,
          13,
          10,
          6,
          12,
          15,
          11,
          10,
          9,
          17,
          17,
          8,
          12,
          8,
          15,
          15,
          12,
          14,
          7,
          12,
          19,
          8,
          10,
          8,
          11,
          19,
          15,
          7,
          12,
          11,
          11,
          8,
          10,
          8,
          14,
          14,
          9,
          15,
          10,
          10,
          8,
          10,
          10,
          16,
          13,
          7,
          8,
          16,
          13,
          10,
          8,
          12,
          11,
          9,
          11,
          11,
          8,
          5,
          10,
          11,
          7,
          15,
          9,
          7,
          8,
          13,
          11,
          8,
          7,
          16,
          7,
          11,
          11,
          7,
          11,
          8,
          11,
          7,
          7,
          16,
          10,
          7,
          16,
          10,
          7,
          16,
          10,
          14,
          18,
          7,
          10,
          18,
          9,
          15,
          11,
          13,
          9,
          14,
          16,
          16,
          13,
          14,
          8,
          13,
          7,
          7,
          7,
          18,
          12,
          8,
          10,
          12,
          9,
          11,
          10,
          4,
          14,
          16,
          7,
          9,
          9,
          14,
          5,
          8,
          6,
          10,
          7,
          8,
          6,
          12,
          10,
          5,
          11,
          11,
          16,
          9,
          17,
          10,
          7,
          5,
          7,
          10,
          5,
          12,
          10,
          14,
          6,
          14,
          6,
          13,
          13,
          8,
          10,
          10,
          13,
          6,
          10,
          10,
          9,
          12,
          16,
          9,
          12,
          12,
          11,
          15,
          8,
          8,
          11,
          8,
          7,
          8,
          13,
          14,
          17,
          9,
          18,
          9,
          16,
          8,
          9,
          7,
          10,
          10,
          7,
          11,
          9,
          7,
          8,
          12,
          12,
          6,
          8,
          14,
          6,
          6,
          7,
          9,
          6,
          6,
          16,
          12,
          13,
          9,
          16,
          12,
          10,
          12,
          13,
          11,
          11,
          14,
          9,
          11,
          14,
          13,
          13,
          7,
          12,
          10,
          6,
          13,
          7,
          18,
          12,
          6,
          3,
          13,
          6,
          7,
          6,
          8,
          8,
          7,
          14,
          11,
          15,
          10,
          17,
          8,
          13,
          10,
          9,
          17,
          9,
          12,
          10,
          6,
          9,
          15,
          11,
          15,
          10,
          12,
          10,
          9,
          9,
          10,
          8,
          11,
          12,
          8,
          10,
          12,
          18,
          13,
          15,
          15,
          12,
          15,
          12,
          18,
          14,
          14,
          10,
          10,
          14,
          16,
          12,
          11,
          15,
          17,
          15,
          14,
          17,
          8,
          15,
          12,
          9,
          14,
          13,
          13,
          15,
          13,
          8,
          9,
          11,
          11,
          13,
          11,
          11,
          12,
          16,
          9,
          14,
          11,
          10,
          14,
          9,
          12,
          7,
          8,
          10,
          16,
          14,
          7,
          16,
          9,
          11,
          10,
          16,
          9,
          11,
          13,
          16,
          10,
          13,
          11,
          8,
          13,
          8,
          8,
          13,
          10,
          12,
          12,
          10,
          18,
          13,
          13,
          11,
          16,
          12,
          10,
          13,
          7,
          11,
          14,
          7,
          14,
          13,
          6,
          19,
          8,
          15,
          8,
          15,
          10,
          15,
          7,
          11,
          6,
          6,
          10,
          6,
          7,
          7,
          6,
          9,
          14,
          10,
          11,
          8
         ],
         "y": [
          6,
          5,
          8,
          14,
          10,
          15,
          12,
          5,
          18,
          15,
          8,
          12,
          14,
          10,
          16,
          14,
          14,
          10,
          5,
          10,
          14,
          15,
          15,
          13,
          9,
          9,
          12,
          16,
          11,
          12,
          11,
          16,
          16,
          10,
          14,
          7,
          16,
          16,
          12,
          13,
          10,
          12,
          18,
          8,
          10,
          8,
          12,
          19,
          15,
          7,
          13,
          13,
          11,
          10,
          13,
          9,
          15,
          15,
          10,
          16,
          11,
          8,
          10,
          9,
          10,
          15,
          13,
          7,
          9,
          16,
          15,
          10,
          6,
          12,
          12,
          9,
          11,
          11,
          8,
          5,
          12,
          10,
          6,
          15,
          10,
          9,
          7,
          14,
          10,
          6,
          7,
          17,
          6,
          10,
          13,
          10,
          15,
          9,
          14,
          9,
          7,
          17,
          13,
          6,
          18,
          11,
          8,
          18,
          13,
          15,
          19,
          10,
          13,
          19,
          9,
          15,
          13,
          14,
          7,
          13,
          15,
          14,
          13,
          11,
          7,
          13,
          10,
          8,
          4,
          18,
          0,
          0,
          13,
          11,
          0,
          0,
          0,
          0,
          12,
          16,
          9,
          9,
          11,
          14,
          0,
          11,
          7,
          11,
          6,
          9,
          5,
          13,
          10,
          0,
          11,
          8,
          12,
          8,
          15,
          12,
          6,
          9,
          0,
          10,
          8,
          11,
          10,
          15,
          7,
          14,
          5,
          15,
          11,
          7,
          11,
          9,
          13,
          5,
          8,
          10,
          8,
          13,
          17,
          9,
          13,
          12,
          12,
          15,
          7,
          9,
          12,
          8,
          8,
          9,
          14,
          15,
          15,
          9,
          18,
          9,
          16,
          10,
          9,
          6,
          10,
          9,
          7,
          12,
          9,
          7,
          8,
          12,
          13,
          7,
          10,
          15,
          6,
          6,
          7,
          10,
          6,
          5,
          16,
          13,
          13,
          8,
          15,
          11,
          8,
          10,
          13,
          11,
          9,
          13,
          7,
          9,
          13,
          12,
          11,
          7,
          12,
          11,
          0,
          12,
          0,
          18,
          12,
          8,
          5,
          15,
          8,
          10,
          9,
          9,
          12,
          9,
          12,
          11,
          14,
          9,
          18,
          8,
          12,
          9,
          10,
          17,
          9,
          10,
          9,
          0,
          9,
          14,
          11,
          14,
          10,
          12,
          9,
          9,
          8,
          11,
          8,
          9,
          12,
          9,
          9,
          10,
          18,
          12,
          14,
          13,
          11,
          15,
          12,
          18,
          13,
          12,
          9,
          8,
          13,
          15,
          10,
          11,
          12,
          17,
          14,
          12,
          18,
          9,
          12,
          10,
          9,
          12,
          11,
          10,
          13,
          11,
          8,
          10,
          11,
          11,
          13,
          9,
          11,
          14,
          15,
          12,
          15,
          10,
          9,
          14,
          8,
          14,
          0,
          8,
          9,
          15,
          13,
          8,
          15,
          10,
          12,
          10,
          15,
          8,
          10,
          13,
          15,
          10,
          15,
          13,
          7,
          13,
          7,
          8,
          11,
          9,
          13,
          12,
          10,
          16,
          13,
          12,
          11,
          15,
          11,
          10,
          13,
          6,
          10,
          12,
          7,
          12,
          11,
          5,
          18,
          8,
          14,
          9,
          15,
          10,
          14,
          6,
          11,
          5,
          5,
          9,
          5,
          5,
          9,
          5,
          9,
          16,
          8,
          12,
          9
         ],
         "z": [
          6,
          6,
          10,
          15,
          10,
          15,
          11,
          6,
          19,
          15,
          9,
          12,
          14,
          11,
          16,
          14,
          14,
          10,
          5,
          10,
          15,
          15,
          16,
          12,
          8,
          8,
          11,
          15,
          11,
          11,
          12,
          17,
          16,
          12,
          15,
          6,
          18,
          15,
          11,
          13,
          11,
          12,
          18,
          11,
          9,
          6,
          11,
          20,
          14,
          7,
          13,
          13,
          10,
          11,
          13,
          10,
          15,
          15,
          9,
          16,
          11,
          11,
          9,
          9,
          10,
          15,
          12,
          6,
          8,
          16,
          15,
          10,
          5,
          14,
          11,
          10,
          10,
          11,
          10,
          5,
          12,
          11,
          6,
          15,
          10,
          8,
          6,
          14,
          10,
          7,
          8,
          18,
          6,
          10,
          14,
          10,
          15,
          10,
          14,
          8,
          5,
          17,
          14,
          6,
          18,
          11,
          8,
          18,
          13,
          16,
          19,
          10,
          13,
          19,
          9,
          16,
          14,
          13,
          8,
          13,
          15,
          15,
          13,
          13,
          8,
          12,
          11,
          9,
          0,
          18,
          0,
          0,
          12,
          11,
          0,
          0,
          0,
          0,
          12,
          15,
          0,
          9,
          11,
          13,
          0,
          11,
          0,
          11,
          0,
          10,
          0,
          14,
          10,
          0,
          12,
          8,
          13,
          10,
          15,
          12,
          0,
          7,
          0,
          10,
          7,
          12,
          10,
          16,
          0,
          14,
          0,
          16,
          10,
          0,
          9,
          9,
          11,
          6,
          9,
          11,
          8,
          12,
          17,
          8,
          12,
          11,
          11,
          15,
          9,
          10,
          13,
          9,
          8,
          10,
          14,
          15,
          16,
          10,
          18,
          10,
          16,
          10,
          10,
          6,
          11,
          9,
          7,
          13,
          10,
          7,
          8,
          13,
          14,
          8,
          10,
          15,
          4,
          8,
          8,
          10,
          6,
          0,
          17,
          13,
          14,
          7,
          15,
          12,
          9,
          12,
          14,
          11,
          9,
          13,
          6,
          10,
          13,
          12,
          11,
          0,
          12,
          12,
          0,
          12,
          0,
          18,
          13,
          8,
          5,
          15,
          8,
          10,
          8,
          8,
          12,
          8,
          13,
          11,
          14,
          0,
          18,
          8,
          12,
          9,
          0,
          17,
          10,
          11,
          10,
          0,
          9,
          14,
          11,
          14,
          10,
          12,
          9,
          9,
          8,
          10,
          8,
          10,
          12,
          10,
          11,
          11,
          19,
          12,
          14,
          15,
          11,
          15,
          13,
          18,
          14,
          11,
          0,
          8,
          14,
          16,
          11,
          10,
          14,
          18,
          13,
          12,
          18,
          8,
          12,
          10,
          0,
          13,
          11,
          11,
          13,
          11,
          0,
          9,
          10,
          11,
          13,
          9,
          11,
          15,
          15,
          11,
          16,
          10,
          9,
          14,
          8,
          14,
          0,
          0,
          0,
          15,
          13,
          0,
          17,
          10,
          11,
          0,
          15,
          0,
          10,
          14,
          16,
          9,
          15,
          13,
          8,
          13,
          8,
          8,
          11,
          9,
          13,
          11,
          10,
          16,
          13,
          12,
          10,
          15,
          12,
          10,
          13,
          0,
          10,
          11,
          9,
          12,
          11,
          5,
          19,
          10,
          15,
          10,
          15,
          10,
          14,
          7,
          10,
          0,
          5,
          10,
          6,
          0,
          8,
          0,
          9,
          16,
          7,
          10,
          9
         ]
        }
       ],
       "layout": {
        "legend": {
         "tracegroupgap": 0
        },
        "margin": {
         "t": 60
        },
        "scene": {
         "domain": {
          "x": [
           0,
           1
          ],
          "y": [
           0,
           1
          ]
         },
         "xaxis": {
          "title": {
           "text": "G1"
          }
         },
         "yaxis": {
          "title": {
           "text": "G2"
          }
         },
         "zaxis": {
          "title": {
           "text": "G3"
          }
         }
        },
        "template": {
         "data": {
          "bar": [
           {
            "error_x": {
             "color": "#2a3f5f"
            },
            "error_y": {
             "color": "#2a3f5f"
            },
            "marker": {
             "line": {
              "color": "#E5ECF6",
              "width": 0.5
             },
             "pattern": {
              "fillmode": "overlay",
              "size": 10,
              "solidity": 0.2
             }
            },
            "type": "bar"
           }
          ],
          "barpolar": [
           {
            "marker": {
             "line": {
              "color": "#E5ECF6",
              "width": 0.5
             },
             "pattern": {
              "fillmode": "overlay",
              "size": 10,
              "solidity": 0.2
             }
            },
            "type": "barpolar"
           }
          ],
          "carpet": [
           {
            "aaxis": {
             "endlinecolor": "#2a3f5f",
             "gridcolor": "white",
             "linecolor": "white",
             "minorgridcolor": "white",
             "startlinecolor": "#2a3f5f"
            },
            "baxis": {
             "endlinecolor": "#2a3f5f",
             "gridcolor": "white",
             "linecolor": "white",
             "minorgridcolor": "white",
             "startlinecolor": "#2a3f5f"
            },
            "type": "carpet"
           }
          ],
          "choropleth": [
           {
            "colorbar": {
             "outlinewidth": 0,
             "ticks": ""
            },
            "type": "choropleth"
           }
          ],
          "contour": [
           {
            "colorbar": {
             "outlinewidth": 0,
             "ticks": ""
            },
            "colorscale": [
             [
              0,
              "#0d0887"
             ],
             [
              0.1111111111111111,
              "#46039f"
             ],
             [
              0.2222222222222222,
              "#7201a8"
             ],
             [
              0.3333333333333333,
              "#9c179e"
             ],
             [
              0.4444444444444444,
              "#bd3786"
             ],
             [
              0.5555555555555556,
              "#d8576b"
             ],
             [
              0.6666666666666666,
              "#ed7953"
             ],
             [
              0.7777777777777778,
              "#fb9f3a"
             ],
             [
              0.8888888888888888,
              "#fdca26"
             ],
             [
              1,
              "#f0f921"
             ]
            ],
            "type": "contour"
           }
          ],
          "contourcarpet": [
           {
            "colorbar": {
             "outlinewidth": 0,
             "ticks": ""
            },
            "type": "contourcarpet"
           }
          ],
          "heatmap": [
           {
            "colorbar": {
             "outlinewidth": 0,
             "ticks": ""
            },
            "colorscale": [
             [
              0,
              "#0d0887"
             ],
             [
              0.1111111111111111,
              "#46039f"
             ],
             [
              0.2222222222222222,
              "#7201a8"
             ],
             [
              0.3333333333333333,
              "#9c179e"
             ],
             [
              0.4444444444444444,
              "#bd3786"
             ],
             [
              0.5555555555555556,
              "#d8576b"
             ],
             [
              0.6666666666666666,
              "#ed7953"
             ],
             [
              0.7777777777777778,
              "#fb9f3a"
             ],
             [
              0.8888888888888888,
              "#fdca26"
             ],
             [
              1,
              "#f0f921"
             ]
            ],
            "type": "heatmap"
           }
          ],
          "heatmapgl": [
           {
            "colorbar": {
             "outlinewidth": 0,
             "ticks": ""
            },
            "colorscale": [
             [
              0,
              "#0d0887"
             ],
             [
              0.1111111111111111,
              "#46039f"
             ],
             [
              0.2222222222222222,
              "#7201a8"
             ],
             [
              0.3333333333333333,
              "#9c179e"
             ],
             [
              0.4444444444444444,
              "#bd3786"
             ],
             [
              0.5555555555555556,
              "#d8576b"
             ],
             [
              0.6666666666666666,
              "#ed7953"
             ],
             [
              0.7777777777777778,
              "#fb9f3a"
             ],
             [
              0.8888888888888888,
              "#fdca26"
             ],
             [
              1,
              "#f0f921"
             ]
            ],
            "type": "heatmapgl"
           }
          ],
          "histogram": [
           {
            "marker": {
             "pattern": {
              "fillmode": "overlay",
              "size": 10,
              "solidity": 0.2
             }
            },
            "type": "histogram"
           }
          ],
          "histogram2d": [
           {
            "colorbar": {
             "outlinewidth": 0,
             "ticks": ""
            },
            "colorscale": [
             [
              0,
              "#0d0887"
             ],
             [
              0.1111111111111111,
              "#46039f"
             ],
             [
              0.2222222222222222,
              "#7201a8"
             ],
             [
              0.3333333333333333,
              "#9c179e"
             ],
             [
              0.4444444444444444,
              "#bd3786"
             ],
             [
              0.5555555555555556,
              "#d8576b"
             ],
             [
              0.6666666666666666,
              "#ed7953"
             ],
             [
              0.7777777777777778,
              "#fb9f3a"
             ],
             [
              0.8888888888888888,
              "#fdca26"
             ],
             [
              1,
              "#f0f921"
             ]
            ],
            "type": "histogram2d"
           }
          ],
          "histogram2dcontour": [
           {
            "colorbar": {
             "outlinewidth": 0,
             "ticks": ""
            },
            "colorscale": [
             [
              0,
              "#0d0887"
             ],
             [
              0.1111111111111111,
              "#46039f"
             ],
             [
              0.2222222222222222,
              "#7201a8"
             ],
             [
              0.3333333333333333,
              "#9c179e"
             ],
             [
              0.4444444444444444,
              "#bd3786"
             ],
             [
              0.5555555555555556,
              "#d8576b"
             ],
             [
              0.6666666666666666,
              "#ed7953"
             ],
             [
              0.7777777777777778,
              "#fb9f3a"
             ],
             [
              0.8888888888888888,
              "#fdca26"
             ],
             [
              1,
              "#f0f921"
             ]
            ],
            "type": "histogram2dcontour"
           }
          ],
          "mesh3d": [
           {
            "colorbar": {
             "outlinewidth": 0,
             "ticks": ""
            },
            "type": "mesh3d"
           }
          ],
          "parcoords": [
           {
            "line": {
             "colorbar": {
              "outlinewidth": 0,
              "ticks": ""
             }
            },
            "type": "parcoords"
           }
          ],
          "pie": [
           {
            "automargin": true,
            "type": "pie"
           }
          ],
          "scatter": [
           {
            "fillpattern": {
             "fillmode": "overlay",
             "size": 10,
             "solidity": 0.2
            },
            "type": "scatter"
           }
          ],
          "scatter3d": [
           {
            "line": {
             "colorbar": {
              "outlinewidth": 0,
              "ticks": ""
             }
            },
            "marker": {
             "colorbar": {
              "outlinewidth": 0,
              "ticks": ""
             }
            },
            "type": "scatter3d"
           }
          ],
          "scattercarpet": [
           {
            "marker": {
             "colorbar": {
              "outlinewidth": 0,
              "ticks": ""
             }
            },
            "type": "scattercarpet"
           }
          ],
          "scattergeo": [
           {
            "marker": {
             "colorbar": {
              "outlinewidth": 0,
              "ticks": ""
             }
            },
            "type": "scattergeo"
           }
          ],
          "scattergl": [
           {
            "marker": {
             "colorbar": {
              "outlinewidth": 0,
              "ticks": ""
             }
            },
            "type": "scattergl"
           }
          ],
          "scattermapbox": [
           {
            "marker": {
             "colorbar": {
              "outlinewidth": 0,
              "ticks": ""
             }
            },
            "type": "scattermapbox"
           }
          ],
          "scatterpolar": [
           {
            "marker": {
             "colorbar": {
              "outlinewidth": 0,
              "ticks": ""
             }
            },
            "type": "scatterpolar"
           }
          ],
          "scatterpolargl": [
           {
            "marker": {
             "colorbar": {
              "outlinewidth": 0,
              "ticks": ""
             }
            },
            "type": "scatterpolargl"
           }
          ],
          "scatterternary": [
           {
            "marker": {
             "colorbar": {
              "outlinewidth": 0,
              "ticks": ""
             }
            },
            "type": "scatterternary"
           }
          ],
          "surface": [
           {
            "colorbar": {
             "outlinewidth": 0,
             "ticks": ""
            },
            "colorscale": [
             [
              0,
              "#0d0887"
             ],
             [
              0.1111111111111111,
              "#46039f"
             ],
             [
              0.2222222222222222,
              "#7201a8"
             ],
             [
              0.3333333333333333,
              "#9c179e"
             ],
             [
              0.4444444444444444,
              "#bd3786"
             ],
             [
              0.5555555555555556,
              "#d8576b"
             ],
             [
              0.6666666666666666,
              "#ed7953"
             ],
             [
              0.7777777777777778,
              "#fb9f3a"
             ],
             [
              0.8888888888888888,
              "#fdca26"
             ],
             [
              1,
              "#f0f921"
             ]
            ],
            "type": "surface"
           }
          ],
          "table": [
           {
            "cells": {
             "fill": {
              "color": "#EBF0F8"
             },
             "line": {
              "color": "white"
             }
            },
            "header": {
             "fill": {
              "color": "#C8D4E3"
             },
             "line": {
              "color": "white"
             }
            },
            "type": "table"
           }
          ]
         },
         "layout": {
          "annotationdefaults": {
           "arrowcolor": "#2a3f5f",
           "arrowhead": 0,
           "arrowwidth": 1
          },
          "autotypenumbers": "strict",
          "coloraxis": {
           "colorbar": {
            "outlinewidth": 0,
            "ticks": ""
           }
          },
          "colorscale": {
           "diverging": [
            [
             0,
             "#8e0152"
            ],
            [
             0.1,
             "#c51b7d"
            ],
            [
             0.2,
             "#de77ae"
            ],
            [
             0.3,
             "#f1b6da"
            ],
            [
             0.4,
             "#fde0ef"
            ],
            [
             0.5,
             "#f7f7f7"
            ],
            [
             0.6,
             "#e6f5d0"
            ],
            [
             0.7,
             "#b8e186"
            ],
            [
             0.8,
             "#7fbc41"
            ],
            [
             0.9,
             "#4d9221"
            ],
            [
             1,
             "#276419"
            ]
           ],
           "sequential": [
            [
             0,
             "#0d0887"
            ],
            [
             0.1111111111111111,
             "#46039f"
            ],
            [
             0.2222222222222222,
             "#7201a8"
            ],
            [
             0.3333333333333333,
             "#9c179e"
            ],
            [
             0.4444444444444444,
             "#bd3786"
            ],
            [
             0.5555555555555556,
             "#d8576b"
            ],
            [
             0.6666666666666666,
             "#ed7953"
            ],
            [
             0.7777777777777778,
             "#fb9f3a"
            ],
            [
             0.8888888888888888,
             "#fdca26"
            ],
            [
             1,
             "#f0f921"
            ]
           ],
           "sequentialminus": [
            [
             0,
             "#0d0887"
            ],
            [
             0.1111111111111111,
             "#46039f"
            ],
            [
             0.2222222222222222,
             "#7201a8"
            ],
            [
             0.3333333333333333,
             "#9c179e"
            ],
            [
             0.4444444444444444,
             "#bd3786"
            ],
            [
             0.5555555555555556,
             "#d8576b"
            ],
            [
             0.6666666666666666,
             "#ed7953"
            ],
            [
             0.7777777777777778,
             "#fb9f3a"
            ],
            [
             0.8888888888888888,
             "#fdca26"
            ],
            [
             1,
             "#f0f921"
            ]
           ]
          },
          "colorway": [
           "#636efa",
           "#EF553B",
           "#00cc96",
           "#ab63fa",
           "#FFA15A",
           "#19d3f3",
           "#FF6692",
           "#B6E880",
           "#FF97FF",
           "#FECB52"
          ],
          "font": {
           "color": "#2a3f5f"
          },
          "geo": {
           "bgcolor": "white",
           "lakecolor": "white",
           "landcolor": "#E5ECF6",
           "showlakes": true,
           "showland": true,
           "subunitcolor": "white"
          },
          "hoverlabel": {
           "align": "left"
          },
          "hovermode": "closest",
          "mapbox": {
           "style": "light"
          },
          "paper_bgcolor": "white",
          "plot_bgcolor": "#E5ECF6",
          "polar": {
           "angularaxis": {
            "gridcolor": "white",
            "linecolor": "white",
            "ticks": ""
           },
           "bgcolor": "#E5ECF6",
           "radialaxis": {
            "gridcolor": "white",
            "linecolor": "white",
            "ticks": ""
           }
          },
          "scene": {
           "xaxis": {
            "backgroundcolor": "#E5ECF6",
            "gridcolor": "white",
            "gridwidth": 2,
            "linecolor": "white",
            "showbackground": true,
            "ticks": "",
            "zerolinecolor": "white"
           },
           "yaxis": {
            "backgroundcolor": "#E5ECF6",
            "gridcolor": "white",
            "gridwidth": 2,
            "linecolor": "white",
            "showbackground": true,
            "ticks": "",
            "zerolinecolor": "white"
           },
           "zaxis": {
            "backgroundcolor": "#E5ECF6",
            "gridcolor": "white",
            "gridwidth": 2,
            "linecolor": "white",
            "showbackground": true,
            "ticks": "",
            "zerolinecolor": "white"
           }
          },
          "shapedefaults": {
           "line": {
            "color": "#2a3f5f"
           }
          },
          "ternary": {
           "aaxis": {
            "gridcolor": "white",
            "linecolor": "white",
            "ticks": ""
           },
           "baxis": {
            "gridcolor": "white",
            "linecolor": "white",
            "ticks": ""
           },
           "bgcolor": "#E5ECF6",
           "caxis": {
            "gridcolor": "white",
            "linecolor": "white",
            "ticks": ""
           }
          },
          "title": {
           "x": 0.05
          },
          "xaxis": {
           "automargin": true,
           "gridcolor": "white",
           "linecolor": "white",
           "ticks": "",
           "title": {
            "standoff": 15
           },
           "zerolinecolor": "white",
           "zerolinewidth": 2
          },
          "yaxis": {
           "automargin": true,
           "gridcolor": "white",
           "linecolor": "white",
           "ticks": "",
           "title": {
            "standoff": 15
           },
           "zerolinecolor": "white",
           "zerolinewidth": 2
          }
         }
        }
       }
      }
     },
     "metadata": {},
     "output_type": "display_data"
    }
   ],
   "source": [
    "import plotly.express as px \n",
    "\n",
    "fig = px.scatter_3d(data, x=\"G1\", y=\"G2\", z=\"G3\")\n",
    "fig.show()"
   ]
  },
  {
   "cell_type": "markdown",
   "metadata": {},
   "source": [
    "the linear regression model only works for data sets where a best fit line can be drawn reasonably well, and the data takes a linear form"
   ]
  },
  {
   "cell_type": "markdown",
   "metadata": {},
   "source": [
    "## Preparing the model "
   ]
  },
  {
   "cell_type": "code",
   "execution_count": 28,
   "metadata": {},
   "outputs": [
    {
     "name": "stdout",
     "output_type": "stream",
     "text": [
      "0.7708587441567512\n",
      "18.56104788463019 [18 18  3  0  5] 19\n",
      "6.285832376902692 [7 7 1 0 3] 8\n",
      "8.475558382495906 [8 9 1 0 5] 9\n",
      "4.2526956491511925 [ 6  5  1  1 14] 5\n",
      "8.21782882070104 [ 9  9  2  2 15] 9\n",
      "9.287945068780807 [ 8 10  2  0  4] 10\n",
      "12.843143673667425 [13 13  2  0  0] 12\n",
      "12.709618782483435 [13 13  3  0  0] 13\n",
      "11.993992683535039 [13 12  1  0  0] 12\n",
      "10.649629248198673 [11 11  2  0  2] 10\n",
      "9.635932705611035 [10 10  2  1 14] 9\n",
      "11.783150764780537 [12 12  2  0  2] 11\n",
      "9.140887853390858 [ 8 10  2  0  0] 12\n",
      "11.947528724251981 [13 12  3  0  6] 12\n",
      "7.175536090758104 [8 8 2 0 0] 9\n",
      "11.233641429768918 [10 12  2  1  4] 12\n",
      "13.4983498053695 [15 14  3  2  4] 15\n",
      "7.175536090758104 [8 8 2 0 0] 0\n",
      "9.589636339311783 [10 10  2  0  4] 11\n",
      "11.250962173850416 [11 12  3  1  4] 11\n",
      "8.459903242605456 [10  9  2  0  0] 9\n",
      "15.458386185540038 [16 15  3  0  9] 16\n",
      "7.327696846731618 [8 9 1 3 0] 10\n",
      "-0.5523460685889188 [8 0 1 0 0] 0\n",
      "12.9166722813624 [13 13  2  0  2] 13\n",
      "8.231740579769456 [8 9 2 0 2] 10\n",
      "12.839355253791888 [12 13  2  0  4] 13\n",
      "15.715736312472446 [16 15  3  0 16] 15\n",
      "6.134179046660738 [7 8 2 3 2] 9\n",
      "11.99994816798992 [11 12  2  0 12] 11\n",
      "6.690239719225051 [ 7  7  1  0 14] 5\n",
      "18.938390578540634 [18 18  1  0  8] 18\n",
      "15.032869679260644 [14 15  2  0  2] 15\n",
      "8.291736863258471 [8 9 1 0 0] 8\n",
      "7.005035053847974 [9 8 2 1 0] 0\n",
      "11.763707205014546 [13 12  3  0  1] 12\n",
      "8.535170654765762 [ 7 10  3  1  0] 10\n",
      "8.070771605311093 [ 9  9  2  2 11] 9\n",
      "10.603165288915616 [11 11  4  0  8] 10\n",
      "13.68872266215963 [13 13  2  0 23] 13\n"
     ]
    }
   ],
   "source": [
    "predict = \"G3\"\n",
    "x = np.array(data.drop([predict], axis=1) )\n",
    "y = np.array(data[predict])\n",
    "\n",
    "x_train, x_test, y_train, y_test = sklearn.model_selection.train_test_split(x, y, test_size=0.1)\n",
    "\n",
    "def train():\n",
    "    linear = linear_model.LinearRegression()\n",
    "    linear.fit(x_train, y_train)\n",
    "    acc = linear.score(x_test, y_test)\n",
    "    return acc\n",
    "\n",
    "acc = train()\n",
    "\n",
    "print(acc)\n",
    "\n",
    "predictions = linear.predict(x_test)\n",
    "\n",
    "for i in range(len(predictions)):\n",
    "    print(predictions[i], x_test[i], y_test[i])"
   ]
  },
  {
   "cell_type": "markdown",
   "metadata": {},
   "source": [
    "Saving the model and Improving upon the model"
   ]
  },
  {
   "cell_type": "code",
   "execution_count": 31,
   "metadata": {},
   "outputs": [],
   "source": [
    "# saving the model \n",
    "import pickle \n",
    "\n",
    "with open(\"./models/studentgrades.pickle\", \"wb\") as f: \n",
    "    pickle.dump(linear, f)\n"
   ]
  },
  {
   "cell_type": "code",
   "execution_count": 39,
   "metadata": {},
   "outputs": [
    {
     "name": "stdout",
     "output_type": "stream",
     "text": [
      "0.7708587441567512\n"
     ]
    }
   ],
   "source": [
    "# finding the model with the best accuracy\n",
    "best = 0 \n",
    "for i in range(1000):\n",
    "    acc = train()\n",
    "    if acc > best:\n",
    "        best = acc\n",
    "        pickle_in = open(\"./models/studentgrades.pickle\", \"rb\")\n",
    "        linear = pickle.load(pickle_in)\n",
    "print(best)"
   ]
  },
  {
   "cell_type": "code",
   "execution_count": 40,
   "metadata": {},
   "outputs": [
    {
     "name": "stdout",
     "output_type": "stream",
     "text": [
      "18.56104788463019 [18 18  3  0  5] 19\n",
      "6.285832376902692 [7 7 1 0 3] 8\n",
      "8.475558382495906 [8 9 1 0 5] 9\n",
      "4.2526956491511925 [ 6  5  1  1 14] 5\n",
      "8.21782882070104 [ 9  9  2  2 15] 9\n",
      "9.287945068780807 [ 8 10  2  0  4] 10\n",
      "12.843143673667425 [13 13  2  0  0] 12\n",
      "12.709618782483435 [13 13  3  0  0] 13\n",
      "11.993992683535039 [13 12  1  0  0] 12\n",
      "10.649629248198673 [11 11  2  0  2] 10\n",
      "9.635932705611035 [10 10  2  1 14] 9\n",
      "11.783150764780537 [12 12  2  0  2] 11\n",
      "9.140887853390858 [ 8 10  2  0  0] 12\n",
      "11.947528724251981 [13 12  3  0  6] 12\n",
      "7.175536090758104 [8 8 2 0 0] 9\n",
      "11.233641429768918 [10 12  2  1  4] 12\n",
      "13.4983498053695 [15 14  3  2  4] 15\n",
      "7.175536090758104 [8 8 2 0 0] 0\n",
      "9.589636339311783 [10 10  2  0  4] 11\n",
      "11.250962173850416 [11 12  3  1  4] 11\n",
      "8.459903242605456 [10  9  2  0  0] 9\n",
      "15.458386185540038 [16 15  3  0  9] 16\n",
      "7.327696846731618 [8 9 1 3 0] 10\n",
      "-0.5523460685889188 [8 0 1 0 0] 0\n",
      "12.9166722813624 [13 13  2  0  2] 13\n",
      "8.231740579769456 [8 9 2 0 2] 10\n",
      "12.839355253791888 [12 13  2  0  4] 13\n",
      "15.715736312472446 [16 15  3  0 16] 15\n",
      "6.134179046660738 [7 8 2 3 2] 9\n",
      "11.99994816798992 [11 12  2  0 12] 11\n",
      "6.690239719225051 [ 7  7  1  0 14] 5\n",
      "18.938390578540634 [18 18  1  0  8] 18\n",
      "15.032869679260644 [14 15  2  0  2] 15\n",
      "8.291736863258471 [8 9 1 0 0] 8\n",
      "7.005035053847974 [9 8 2 1 0] 0\n",
      "11.763707205014546 [13 12  3  0  1] 12\n",
      "8.535170654765762 [ 7 10  3  1  0] 10\n",
      "8.070771605311093 [ 9  9  2  2 11] 9\n",
      "10.603165288915616 [11 11  4  0  8] 10\n",
      "13.68872266215963 [13 13  2  0 23] 13\n"
     ]
    }
   ],
   "source": [
    "pickle_in = open(\"./models/studentgrades.pickle\", \"rb\")\n",
    "linear = pickle.load(pickle_in)\n",
    "\n",
    "predictions = linear.predict(x_test)\n",
    "for i in range(len(predictions)):\n",
    "    print(predictions[i], x_test[i], y_test[i])"
   ]
  }
 ],
 "metadata": {
  "kernelspec": {
   "display_name": "venv",
   "language": "python",
   "name": "python3"
  },
  "language_info": {
   "codemirror_mode": {
    "name": "ipython",
    "version": 3
   },
   "file_extension": ".py",
   "mimetype": "text/x-python",
   "name": "python",
   "nbconvert_exporter": "python",
   "pygments_lexer": "ipython3",
   "version": "3.11.7"
  }
 },
 "nbformat": 4,
 "nbformat_minor": 2
}
